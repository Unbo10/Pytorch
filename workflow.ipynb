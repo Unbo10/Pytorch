{
 "cells": [
  {
   "cell_type": "markdown",
   "metadata": {},
   "source": [
    "# A PyTorch Workflow"
   ]
  },
  {
   "cell_type": "markdown",
   "metadata": {},
   "source": [
    "## 1. Data (preparing and loading)\n",
    "\n",
    "There are two steps in any process involving Machine Learning:\n",
    "\n",
    "1. Represent **any** data numerically.\n",
    "2. Build and/or train a model to learn patterns contained implicitely in the data.\n",
    "\n",
    "In the example that follows, we will create numerical data (step 1) using a linear regression formula (a linear function) and we will create a model that will learn to associate the values of the dependent variable with the corresponding ones of the dependent variable. So, in essence, it will figure out what is the slope (or gradient) and the intercept with the y-axis."
   ]
  },
  {
   "cell_type": "code",
   "execution_count": 2,
   "metadata": {},
   "outputs": [
    {
     "name": "stdout",
     "output_type": "stream",
     "text": [
      "tensor([[0.0000],\n",
      "        [0.0200],\n",
      "        [0.0400],\n",
      "        [0.0600],\n",
      "        [0.0800],\n",
      "        [0.1000],\n",
      "        [0.1200],\n",
      "        [0.1400],\n",
      "        [0.1600],\n",
      "        [0.1800]]) 50\n",
      "tensor([[0.3000],\n",
      "        [0.3140],\n",
      "        [0.3280],\n",
      "        [0.3420],\n",
      "        [0.3560],\n",
      "        [0.3700],\n",
      "        [0.3840],\n",
      "        [0.3980],\n",
      "        [0.4120],\n",
      "        [0.4260]]) 50\n"
     ]
    }
   ],
   "source": [
    "import torch\n",
    "\n",
    "#*Set known parameters (to be predicted by the model)\n",
    "weight: int = 0.7 #*Gradient\n",
    "bias: int = 0.3 #*y-axis intercept\n",
    "\n",
    "#*Generate data\n",
    "start: float = 0\n",
    "end: float = 1\n",
    "step: float = 0.02\n",
    "#*Generate 50 consecutive values of the independent variable\n",
    "X: torch.Tensor = torch.arange(start, end, step).unsqueeze(dim=1)\n",
    "#*Compute the 50 corresponding values of the dependent variable using the linear regression formula\n",
    "y: torch.Tensor = weight * X + bias\n",
    "print(X[:10], len(X))\n",
    "print(y[:10], len(y))"
   ]
  },
  {
   "cell_type": "markdown",
   "metadata": {},
   "source": [
    "> - Unsure why is `y` not capital if it's a tensor, even if it looks like a vector (since it's 2-dimensional).\n",
    "> - By unsqueezing in dimension 1, we get a more vector-like representation of the data, since it's now organized by multiple rows and a single column."
   ]
  },
  {
   "cell_type": "markdown",
   "metadata": {},
   "source": [
    "### **Splitting data into training, validation and test sets**\n",
    "\n",
    "This is one of the most crucial parts -if not the most- of representing data numerically. On it depends how good your model is in theory (training sets) and in practice (validation and test sets).\n",
    "\n",
    "Especially when dealing with limited or uneven data (in my view, data in which you don't have the same amount corresponding to each category or label), it needs to be carefully done.\n",
    "\n",
    "For reference, here is a table of the usage frequency and distribution of the three sets:\n",
    "\n",
    "| Split           | Purpose                                                                 | Amount of total data | How often is it used?       |\n",
    "| --------------- | ----------------------------------------------------------------------- | -------------------- | --------------------------- |\n",
    "| **Training set**| The model learns from this data (like the course materials you study during the semester). | **~60-80%** | Always|\n",
    "| **Validation set** | The model gets tuned on this data (like the practice exam you take before the final exam). | **~10-20%**| Often but not always (like sometimes getting a practice exam from your prof and sometimes not)|\n",
    "| **Testing set** | The model gets evaluated on this data to test what it has learned (like the final exam you take at the end of the semester). | **~10-20%**| Always|\n",
    "\n",
    "> .\n",
    "> \n",
    "> Validations sets are mainly required when optimizing the hyperparameters of the model and improving the model's generalization by detecting over-fitting.\n",
    "\n",
    "For the example we are in, we won't use a validation set since we know the parameters and the relation between the data is known in advance."
   ]
  },
  {
   "cell_type": "code",
   "execution_count": 3,
   "metadata": {},
   "outputs": [],
   "source": [
    "\n",
    "#*Create a test/train split (80% / 20%)\n",
    "training_split = int(0.8 * len(X))\n",
    "X_training, y_training = X[:training_split], y[:training_split]\n",
    "X_test, y_test = X[training_split:], y[training_split:]"
   ]
  },
  {
   "cell_type": "markdown",
   "metadata": {},
   "source": [
    "To \"visualize, visualize, visualize!\" the data, you can use MatplotLib, just as follows:"
   ]
  },
  {
   "cell_type": "code",
   "execution_count": 4,
   "metadata": {},
   "outputs": [
    {
     "data": {
      "image/png": "[encoded data removed]",
      "text/plain": [
       "<Figure size 600x600 with 1 Axes>"
      ]
     },
     "metadata": {},
     "output_type": "display_data"
    }
   ],
   "source": [
    "import matplotlib.pyplot as plt\n",
    "\n",
    "def plot_predictions(train_data: torch.Tensor, train_labels: torch.Tensor, test_data: torch.Tensor, test_labels: torch.Tensor, predictions = None) -> None:\n",
    "    plt.style.use(\"dark_background\")\n",
    "    plt.figure(figsize=(6, 6))\n",
    "\n",
    "    #*Plot the train and test data\n",
    "    plt.scatter(x=train_data, y=train_labels, s=7, c=\"cyan\", label=\"Training data\") #*s is the size of the dots\n",
    "    plt.scatter(x=test_data, y=test_labels, s=7, c=\"orange\", label=\"Test data\")\n",
    "\n",
    "    #*Show predictions if there are any\n",
    "    if predictions is not None:\n",
    "        plt.scatter(x=test_data, y=predictions, s=10, c=\"red\", label=\"Predictions\")\n",
    "\n",
    "    plt.legend(prop={\"size\": 12}) #*Shows the labels of all the scattered data\n",
    "\n",
    "plot_predictions(X_training, y_training, X_test, y_test)"
   ]
  },
  {
   "cell_type": "markdown",
   "metadata": {},
   "source": [
    "## 2. Building model\n",
    "\n",
    "Reminder: the goal of the model is to predict (or get as close to) the values of the weight and bias that were known from earlier (0.7 and 0.3, respectively). In consequence, the model will do the following:\n",
    "\n",
    "- Start with random values of bias and weight.\n",
    "- Look through the training data and update the weight and the bias to match the known values.\n",
    "\n",
    "The parameters are updated following two algorithms:\n",
    "1. Gradient descent.\n",
    "2. Backpropagation.\n",
    "\n",
    "The underlying idea of the two algorithms is to find the weights and bias that minimize the cost function of the network, which is the sum of the differences of the activations (or values) of the neurons in the output layer after the model was run and the expected activations in the same layer. \n",
    "\n",
    "Now, since the cost function is a function in n dimensions, where n is the number of neurons in the input layer, it is usually hard to visualize. However, if you restrained it to three dimensions, you would find a bunch of valleys and mountains. The goal of the algorithms is to change the weights and the bias to get to the lowest (or closest-to-the-sea) valley.\n",
    "\n",
    "Since the cost function will probably have a lot of local minimums (the valleys), the algorithms won't always minimize the cost as much as they could. However, that's something to be measured with testing, and they may be good enough even if not perfect.\n",
    "\n",
    "Back to the algorithms, they can be described as follows:\n",
    "\n",
    "- Gradient descent: Direct calculation of the cost function's gradient descent by means of Calculus. When using it, you tend to find the shortest path to the \"best\" valley, but it is computationally costly.\n",
    "- Backpropagation: It also involves finding the gradient descent, but it does so by taking a weird route but ultimately getting to the \"best\" valley. In short, it is a recursive algorithm that computes the ideal weights and biases of a single example by going (propagating) backwards from the output layer to the input layer. It adds and keeps track of the changes that need to be done to each neuron activation and ends up changing the weights and biases accordingly.\n",
    "\n",
    "In the following implementation, gradient descent will be used (which doesn't rule out the possibility of backpropagation being involved too)\n",
    "\n"
   ]
  },
  {
   "cell_type": "code",
   "execution_count": null,
   "metadata": {},
   "outputs": [
    {
     "name": "stdout",
     "output_type": "stream",
     "text": [
      "LinearRegressionModel()\n",
      "Parameter containing:\n",
      "tensor([0.3367], requires_grad=True)\n",
      "Parameter containing:\n",
      "tensor([0.1288], requires_grad=True)\n",
      "OrderedDict({'weight': tensor([0.3367]), 'bias': tensor([0.1288])})\n",
      "Named Modules:\n",
      "Layer name: , Layer type: LinearRegressionModel\n",
      "\n",
      "\n"
     ]
    }
   ],
   "source": [
    "import torch.nn as nn\n",
    "\n",
    "class LinearRegressionModel(nn.Module):\n",
    "    def __init__(self):\n",
    "        \"\"\"Initializes an instance of a linear regression model with a random weight and bias\"\"\"\n",
    "        super().__init__()\n",
    "        self.training = True\n",
    "        self.weight: nn.Parameter = nn.Parameter(data=torch.randn(1, dtype=torch.float), requires_grad=True) #*Scalar\n",
    "        self.bias: nn.Parameter = nn.Parameter(data=torch.randn(1, requires_grad=True, dtype=torch.float)) #*Scalar\n",
    "\n",
    "    def forward(self, x: torch.Tensor) -> torch.Tensor:\n",
    "        \"\"\"\n",
    "        This method will define the computation in the model.\n",
    "        \n",
    "        Args\n",
    "        ----\n",
    "\n",
    "        x: torch.Tensor\n",
    "            The input data or tensor (in this implementation, the training data)\n",
    "        \"\"\"\n",
    "        return self.weight * x + self.bias #* ax + b\n",
    "\n",
    "if __name__ == \"__main__\":\n",
    "    RANDOM_SEED = 42\n",
    "    torch.manual_seed(RANDOM_SEED)\n",
    "\n",
    "    model = LinearRegressionModel()\n",
    "    # print(model.weight.requires_grad)\n",
    "    # print(model.bias.requires_grad)\n",
    "\n",
    "    print(model)\n",
    "    for model_parameter in model.parameters():\n",
    "        print(model_parameter)\n",
    "    print(model.state_dict())"
   ]
  },
  {
   "cell_type": "markdown",
   "metadata": {},
   "source": [
    "> The argument for `requires_grad` in `nn.Parameter` will override that of `data`. Therefore, if no value is specified, the output tensor will always require gradient descent. If set to False, again, as a parameter of `nn.Parameter` and not of the data tensor, it won't require gradient descent."
   ]
  },
  {
   "cell_type": "markdown",
   "metadata": {},
   "source": [
    "#### `nn`\n",
    "\n",
    "It's short for **neural network**, and it is a submodule of PyTorch that contains the \"building blocks for graphs\", on which neural networks are based (they are, in fact, computational graphs).\n",
    "\n",
    "A quick glance at the documentation tells you it contains all the layers and functions you will need for the construction of neural networks.\n",
    "\n",
    "##### `nn.Module`\n",
    "\n",
    "This is a container in the `nn` submodule. Almost *any* neural network will need to inherit from this module, since its their base class in PyTorch.\n",
    "\n",
    "Its only public attribute is `training`, which I believe is just for reference in implementations where it is relevant to know if a model is being trained or not. The interesting stuff appears when you look at its methods; it contains all the necessary ones to train and test a neural network module.\n",
    "\n",
    "> For a subclass of `nn.Module` to be considered a neural network module, as suggested by the docs, it needs to override the `forward` method implemented. It won't through an exception if it's not, but it is recommended to do so even if there's nothing in the method yet.\n",
    "\n",
    "##### `nn.Parameter`\n",
    "\n",
    "Any instance of this class will be a tensor that is a parameter of an `nn.Module`, so a weight or a bias in the implementation.\n",
    "\n",
    "The reason behind this class is that \"one might want to cache some temporary state, like last hidden state of the RNN, in the model. If there was no such class as Parameter, these temporaries would get registered too\". This means, since a parameter stored in `self.parameters()` will be trained as it is considered a weight or a bias, the distinction needs to be made between actual attributes and parameters of the model.\n",
    "\n",
    "To visualize how are the parameters being stored internally, you can use `self.parameters()` to get a generator containing all of the model's parameters or `self.state_dict()` to get a dictionary where the keys are the names of the parameters and the values the corresponding tensors (it will also store buffers, so bear that in mind).\n",
    "\n",
    "##### `torch.optim`\n",
    "\n",
    "##### `torch.utils.data.Dataset`\n",
    "\n",
    "##### `torch.utils.data.DataLoader`"
   ]
  },
  {
   "cell_type": "markdown",
   "metadata": {},
   "source": [
    "### Making predictions with a model\n",
    "\n",
    "Predictions are the output you will get when you pass some features or input data to the model. They are made using, mainly, the `forward` method called inside `torch.inference_mode()`, a context manager that optimizes the execution.\n",
    "\n",
    "#### `torch.inference_model()`\n",
    "\n",
    "As said before, it is a context manager that removes some unnecessary process when that are mostly required for training. Specifically, it disables gradient calculation (which can also be done with the `torch.no_grad()` method), view tracking and other actions that are not necessary when not doing model training or other things. Therefore, they are \"ignored\" or removed so more memory is available and the more relevant processes take less time.\n",
    "\n"
   ]
  },
  {
   "cell_type": "code",
   "execution_count": 6,
   "metadata": {},
   "outputs": [
    {
     "data": {
      "image/png": "[encoded data removed]",
      "text/plain": [
       "<Figure size 600x600 with 1 Axes>"
      ]
     },
     "metadata": {},
     "output_type": "display_data"
    }
   ],
   "source": [
    "with torch.inference_mode():\n",
    "    y_predictions = model(X_test)\n",
    "\n",
    "plot_predictions(X_training, y_training, X_test, y_test, y_predictions)"
   ]
  },
  {
   "cell_type": "code",
   "execution_count": 7,
   "metadata": {},
   "outputs": [],
   "source": [
    "\n",
    "#* Inference mode can also be used as a decorator\n",
    "@torch.inference_mode()\n",
    "def compute_y_predictions(x: torch.Tensor) -> torch.Tensor:\n",
    "    return model(x)\n",
    "\n",
    "# plot_predictions(X_training, y_training, X_test, y_test, compute_y_predictions(X_test))"
   ]
  },
  {
   "cell_type": "markdown",
   "metadata": {},
   "source": [
    "## 3. Training model\n",
    "\n",
    "The goal of this step is for a model to update its parameters (weights and bias) so that they are as close as possible to some known parameters, or in other words, so that the predictions you make with it are as good as possible.\n",
    "\n",
    "To do so, you need two things: an optimizer to update the parameters so that they get closer to the known ones, and a loss function, to measure how good the current parameters are compared to the known ones (based on the predictions made with them).\n",
    "\n",
    "### Loss function\n",
    "\n",
    "Measures how good a prediction is, and therefore, how good the given parameters are, based on how much does it diverge from the expected output.\n",
    "\n",
    "It is also known as cost function (as when discussing gradient descent and backpropagation) and criterion (used in PyTorch docs).\n",
    "\n",
    "Some of the most common examples are MAE (Minimum Absolute Error), MSE (Minimum Squared Error) and Binary Cross Entropy.\n",
    "\n",
    "The ones supported by PyTorch can be found in [here](https://pytorch.org/docs/stable/nn.html#loss-functions), a section of the documentation of `nn`. Note that they are implemented as objects, and it's because of the calculations associated to the loss function and the model, like backpropagation.\n",
    "\n",
    "### Optimizer\n",
    "\n",
    "It is an algorithm that minimizes the loss function by updating the parameters given an output and its loss.\n",
    "\n",
    "In PyTorch, optimizers are implemented as objects. Mainly because there are actions inside the algorithms that are executed using multiple methods and auxiliary methods to collect data about the state of the optimization. Also, something to bear in mind is that they are initialized with two mandatory arguments: `params` and `lr`, respectively, the parameters you want to update to minimize the loss function and the learning rate.\n",
    "\n",
    "An advantage of implementing them this way is that you can create subclasses from the base class `torch.optim.Optimizer`, which provides enough flexibility and simplicity to allow for more complex and/or specific implementation (I may be wrong, but this may be useful when you're training a reinforcement-learning agent and you need to set an environment on which the loss function and the `step` method which updates the parameters).\n",
    "\n",
    "The oldest and most general one is Stochastic Gradient Descent (SGD), which, along other more-refined algorithms such as Adam and its variants, are implemented in PyTorch as classes. More info on them can be found [here](https://pytorch.org/docs/stable/optim.html#algorithms).\n",
    "\n",
    "On the other hand, in PyTorch you will need a **training loop** and a **test loop**."
   ]
  },
  {
   "cell_type": "code",
   "execution_count": 8,
   "metadata": {},
   "outputs": [],
   "source": [
    "\n",
    "#*Choosing a loss function (MAE in this case)\n",
    "loss_fn: nn.L1Loss = nn.L1Loss()\n",
    "\n",
    "#*Instantiating an optimizer\n",
    "optimizer: torch.optim.SGD = torch.optim.SGD(params=model.parameters(), lr=0.01)"
   ]
  },
  {
   "cell_type": "markdown",
   "metadata": {},
   "source": [
    "> Just so you know, the loss \"function\" needs to be called because you're instantiating a class in PyTorch, therefore, otherwise you will be creating an object when you calculate the loss instead of actually calculating it."
   ]
  },
  {
   "cell_type": "markdown",
   "metadata": {},
   "source": [
    "#### Learning rate (`lr`)\n",
    "\n",
    "It lets the optimizer know how big the change it would make to the parameters can be. Therefore, the parameters will be updated by no more than the learning rate and with a sensitivity accordingly, so if one of your model's parameter is `0.8352` and `lr = 0.01`, then the updated parameter will be withing the range `[0.8452, 0.8252]`.\n",
    "\n",
    "Now, as the parameters get closer and closer to convergence or the global minima of the loss function, they shouldn't take steps as big as when they were at the top of a \"mountain\". This is taken into account in what's called **learning rate scheduling**, which I will dare to also call **adaptative learning rate**.\n",
    "\n",
    "##### Learning rate scheduling\n",
    "\n",
    "It means computing a new learning rate per each epoch, based on at least one parameter known (usually the initial learning rate, but in some it can be the max and min learning rates for example).\n",
    "\n",
    "Some examples are step, exponential and staircase exponential decay. You can find more about them [here](https://medium.com/@theom/a-very-short-visual-introduction-to-learning-rate-schedulers-with-code-189eddffdb00)"
   ]
  },
  {
   "cell_type": "markdown",
   "metadata": {},
   "source": [
    "### Training loop\n",
    "\n",
    "It is extremely rare and even risky to try and optimize a model in a single step, since the learning rate would be relatively high and the predictions may not be as good as needed. In consequence, the most common process is to iterate a set amount of times through a few steps that update the parameters using the loss function, the optimizer, and other algorithms and methods. These steps are:\n",
    "\n",
    "|Step                   | What does it do?                                                                                     | Code example                     |\n",
    "|-------------------------------|-------------------------------------------------------------------------------------------------------|-----------------------------------|\n",
    "| 1. Forward pass                 | The model goes through all of the training data once, performing its `forward()` function(s) (there could be multiple) calculations. In other words, it goes through the hidden layers of the model to reach the output one. | `model(x_train)`                 |\n",
    "| 2. Calculate the loss           | The model's outputs (predictions) are compared to the ground truth (the test data) and evaluated to see how wrong they are. | `loss = loss_fn(y_pred, y_train)` |\n",
    "| 3. Zero gradients               | The optimizer's gradients are set to zero (they are accumulated by default) so they can be recalculated for the specific training step. If this step is skipped, all the previous gradients will be added to the current one, so, using the analogy of going down a mountain, you may end up in the wrong valley, not moving at all, or going in the opposite direction than the fastest route downhill. | `optimizer.zero_grad()`          |\n",
    "| 4.  Perform backpropagation on the loss | Computes the gradient of the loss with respect to every model parameter to be updated (each parameter with `requires_grad=True`). This is known as **backpropagation**, hence \"backwards\". | `loss.backward()`                |\n",
    "| 5. Update the optimizer (**gradient descent**) | Update the parameters with `requires_grad=True` with respect to the loss gradients in order to improve them. | `optimizer.step()`               |\n",
    "\n",
    "> The gradients are tracked every time you do a `loos.backward()` call.\n",
    "\n",
    "### Test loop\n",
    "\n",
    "Testing is usually incorporated inside the training loop since you want to evaluate how good is the model after a certain amount of epochs have elapsed.\n",
    "\n",
    "To do this, you go through four steps (although two are optional):\n",
    "\n",
    "| Step name | What does it do? | Code example |\n",
    "| --------------- | ---------------- | ------------ |\n",
    "| 1. Forward pass | The model goes through all of the testing data once, performing its `forward()` function calculations. | `model(x_test)` |\n",
    "| 2. Calculate the loss | The model's outputs (predictions) are compared to the ground truth and evaluated to see how wrong they are. | `loss = loss_fn(y_pred, y_test)` |\n",
    "| 3. Calculate evaluation metrics (optional) | Alongside the loss value you may want to calculate other evaluation metrics such as accuracy on the test set. | Custom functions |\n",
    "| 4. Track experiments (optional) | You may want to store the epochs and corresponding training and testing losses to visualize them creating loss curves, and/or for future models | `append`ing all the relevant data for every `epoch % n == 0` |\n",
    "\n",
    "Since you will be iterating a finite amount of times through this steps, there is a hyperparameter that you can set: `epochs`, which is the amount of times yo go through the loop."
   ]
  },
  {
   "cell_type": "code",
   "execution_count": 9,
   "metadata": {},
   "outputs": [
    {
     "name": "stdout",
     "output_type": "stream",
     "text": [
      "Epoch: 0 | Training loss: 0.31288138031959534 | Test loss: 0.48106518387794495\n",
      "OrderedDict({'weight': tensor([0.3406]), 'bias': tensor([0.1388])})\n",
      "Epoch: 9 | Training loss: 0.20919232070446014 | Test loss: 0.3598262071609497\n",
      "OrderedDict({'weight': tensor([0.3757]), 'bias': tensor([0.2288])})\n",
      "Epoch: 19 | Training loss: 0.09681284427642822 | Test loss: 0.22817862033843994\n",
      "OrderedDict({'weight': tensor([0.4146]), 'bias': tensor([0.3258])})\n",
      "Epoch: 29 | Training loss: 0.0545857772231102 | Test loss: 0.14967669546604156\n",
      "OrderedDict({'weight': tensor([0.4483]), 'bias': tensor([0.3743])})\n",
      "Epoch: 39 | Training loss: 0.04591871052980423 | Test loss: 0.11538954079151154\n",
      "OrderedDict({'weight': tensor([0.4728]), 'bias': tensor([0.3868])})\n",
      "Epoch: 49 | Training loss: 0.04202762991189957 | Test loss: 0.10030148178339005\n",
      "OrderedDict({'weight': tensor([0.4920]), 'bias': tensor([0.3848])})\n",
      "Epoch: 59 | Training loss: 0.0385376438498497 | Test loss: 0.08928143978118896\n",
      "OrderedDict({'weight': tensor([0.5100]), 'bias': tensor([0.3798])})\n",
      "Epoch: 69 | Training loss: 0.035098835825920105 | Test loss: 0.0810088962316513\n",
      "OrderedDict({'weight': tensor([0.5272]), 'bias': tensor([0.3728])})\n",
      "Epoch: 79 | Training loss: 0.03166864812374115 | Test loss: 0.07342323660850525\n",
      "OrderedDict({'weight': tensor([0.5441]), 'bias': tensor([0.3653])})\n",
      "Epoch: 89 | Training loss: 0.028234025463461876 | Test loss: 0.06515069305896759\n",
      "OrderedDict({'weight': tensor([0.5613]), 'bias': tensor([0.3583])})\n",
      "Epoch: 99 | Training loss: 0.02479521557688713 | Test loss: 0.05687814950942993\n",
      "OrderedDict({'weight': tensor([0.5784]), 'bias': tensor([0.3513])})\n",
      "Epoch: 109 | Training loss: 0.021366719156503677 | Test loss: 0.04929249361157417\n",
      "OrderedDict({'weight': tensor([0.5954]), 'bias': tensor([0.3438])})\n",
      "Epoch: 119 | Training loss: 0.017930403351783752 | Test loss: 0.04101995751261711\n",
      "OrderedDict({'weight': tensor([0.6126]), 'bias': tensor([0.3368])})\n",
      "Epoch: 129 | Training loss: 0.01449323259294033 | Test loss: 0.03343429043889046\n",
      "OrderedDict({'weight': tensor([0.6295]), 'bias': tensor([0.3293])})\n",
      "Epoch: 139 | Training loss: 0.011064787395298481 | Test loss: 0.025161748751997948\n",
      "OrderedDict({'weight': tensor([0.6467]), 'bias': tensor([0.3223])})\n",
      "Epoch: 149 | Training loss: 0.007626785431057215 | Test loss: 0.016889220103621483\n",
      "OrderedDict({'weight': tensor([0.6638]), 'bias': tensor([0.3153])})\n",
      "Epoch: 159 | Training loss: 0.00419129803776741 | Test loss: 0.009303552098572254\n",
      "OrderedDict({'weight': tensor([0.6808]), 'bias': tensor([0.3078])})\n",
      "Epoch: 169 | Training loss: 0.0025885067880153656 | Test loss: 0.008447891101241112\n",
      "OrderedDict({'weight': tensor([0.6990]), 'bias': tensor([0.3093])})\n",
      "Epoch: 179 | Training loss: 0.0025885067880153656 | Test loss: 0.008447891101241112\n",
      "OrderedDict({'weight': tensor([0.6990]), 'bias': tensor([0.3093])})\n",
      "Epoch: 189 | Training loss: 0.0025885067880153656 | Test loss: 0.008447891101241112\n",
      "OrderedDict({'weight': tensor([0.6990]), 'bias': tensor([0.3093])})\n",
      "Epoch: 199 | Training loss: 0.0025885067880153656 | Test loss: 0.008447891101241112\n",
      "OrderedDict({'weight': tensor([0.6990]), 'bias': tensor([0.3093])})\n",
      "OrderedDict({'weight': tensor([0.6990]), 'bias': tensor([0.3093])})\n"
     ]
    },
    {
     "data": {
      "image/png": "[encoded data removed]",
      "text/plain": [
       "<Figure size 600x600 with 1 Axes>"
      ]
     },
     "metadata": {},
     "output_type": "display_data"
    }
   ],
   "source": [
    "\n",
    "#!To run, run all the previous cells in the notebook or it may save the model's updated parameters after training\n",
    "epochs = 200\n",
    "\n",
    "#*Lists to keep track of the loss to make the loss curves and maybe for other models\n",
    "epoch_count: list[torch.Tensor] = []\n",
    "loss_values: list[torch.Tensor] = []\n",
    "test_loss_values: list[torch.Tensor] = []\n",
    "\n",
    "#*Training and testing loop (they usually go together)\n",
    "for epoch in range(epochs):\n",
    "    #*TRAINING\n",
    "    model.train(mode=True) #*True is the default arg\n",
    "\n",
    "    y_predictions = model(X_training) #* 1\n",
    "    \n",
    "    loss: nn.L1Loss = loss_fn(y_predictions, y_training) #* 2\n",
    "    \n",
    "    optimizer.zero_grad() #* 3\n",
    "    \n",
    "    loss.backward() #* 4\n",
    "    \n",
    "    optimizer.step() #* 5\n",
    "\n",
    "    #*The loss keeps reducing in every epoch, so the predictions are getting closer to the target labels\n",
    "    # print(loss, model.state_dict())\n",
    "\n",
    "    #*TESTING\n",
    "    model.eval() #*Equivalent to model.train(False)\n",
    "    if (epoch + 1) % 10 == 0 or epoch == 0:\n",
    "        with torch.inference_mode():\n",
    "            test_predictions = model(X_test)\n",
    "            test_loss = loss_fn(test_predictions, y_test)\n",
    "        print(f\"Epoch: {epoch} | Training loss: {loss} | Test loss: {test_loss}\")\n",
    "        print(model.state_dict())\n",
    "        epoch_count.append(epoch)\n",
    "        loss_values.append(loss)\n",
    "        test_loss_values.append(test_loss)\n",
    "\n",
    "with torch.inference_mode():\n",
    "    y_predictions = model(X_test)\n",
    "    plot_predictions(X_training, y_training, X_test, y_test, y_predictions)\n",
    "\n",
    "print(model.state_dict())\n"
   ]
  },
  {
   "cell_type": "markdown",
   "metadata": {},
   "source": [
    ">Something interesting that's happenning is that the loss bounces back-and-forth between two values somewhere after the 160th epoch. This is because the learning rate has \"hit its limit\", i.e., it is too big to update the parameters so that they minimize even more the loss. Therefore, this is a good example why choosing the appropriate learning rate (whether adaptive or not), is crucial for the model's predictions' accuracy.\n",
    "\n",
    "> `module.eval()` and `module.train()` have specific implementations depending on the module. For instance, `Dropout` and `BatchNorm2d` behave differently depending on which method was called previously. It is a good practice to use them even if you are not sure they will have any effect (they do not turn off gradient calculations by default)."
   ]
  },
  {
   "cell_type": "code",
   "execution_count": 10,
   "metadata": {},
   "outputs": [
    {
     "data": {
      "text/plain": [
       "<matplotlib.legend.Legend at 0x7671ccd91dc0>"
      ]
     },
     "execution_count": 10,
     "metadata": {},
     "output_type": "execute_result"
    },
    {
     "data": {
      "image/png": "[encoded data removed]",
      "text/plain": [
       "<Figure size 640x480 with 1 Axes>"
      ]
     },
     "metadata": {},
     "output_type": "display_data"
    }
   ],
   "source": [
    "\n",
    "#*Generating the loss curve with the tracked data\n",
    "with torch.no_grad():\n",
    "    plt.plot(epoch_count, loss_values, \"lightcoral\", label=\"Train loss\")\n",
    "plt.plot(epoch_count, test_loss_values, \"skyblue\", label=\"Test loss\")\n",
    "\n",
    "plt.ylabel(\"Loss\")\n",
    "plt.xlabel(\"Epoch\")\n",
    "plt.legend(prop={\"size\": 12})"
   ]
  },
  {
   "cell_type": "markdown",
   "metadata": {},
   "source": [
    ">Since the loss values are calculated in the training loop, the tensors they are stored in have `require_grad` set to `True` because they are needed for the training calculations. In consequence, context managers like `no_grad` or `inference_mode` can be used to set the requirement to false and be able to convert them to NumPy arrays."
   ]
  },
  {
   "cell_type": "markdown",
   "metadata": {},
   "source": [
    "## 4. Save and load model\n",
    "\n",
    "There are two ways to save/load a model:\n",
    "\n",
    "1. Saving/Loading an object or parts of one in a file using `pickle`'s methods.\n",
    "2. Saving/Loading an entire model in a file.\n",
    "\n",
    "No matter which way you choose, a common PyTorch convention is to store the information in a file with the extension `.pt` or `.pth`. \n",
    "\n",
    "Now, before diving into saving and loading, you should know a bit about the `pickle` built-in module.\n",
    "\n",
    "### Pickling and unpickling\n",
    "\n",
    "Pickling itself is the process of storing food in containers full of a certain liquid to extend their shelf life. Although it's a weird choice to name something related to objects in Python, it makes sense: *pickling an object* is the process of converting it to a stream of bytes and store it somewhere so that you can then access it even after running time (successfully extending its lifespan). Accordingly, *unpickling* is the inverse process: taking a valid stream of bytes and converting them to a Python object.\n",
    "\n",
    "They are also known as serializing and de-serializing, respectively, which are the terms used for the same processes outside of Python -more generally.\n",
    "\n",
    "Under the hood, when PyTorch saves and loads a model, it is pickling and unpickling objects, respectively, using `pickle`'s methods.\n",
    "\n",
    ">Note: Unpickling an object may be unsafe since it could execute malitious code.\n",
    "\n",
    "### Saving and loading a state dictionary (recommended)\n",
    "\n",
    "A **state dictionary** is a Python dictionary that maps a layer to its corresponding parameter (tensor). It is an attribute of an `nn.Module` child and it's accessed via `module.state_dict()`.\n",
    "\n",
    "This method uses state dictionaries to save and load modules, because if you think about it, it keeps track of the main characterstics of the model: the layers and their corresponding learnable parameters.\n",
    "\n",
    "#### Saving\n",
    "\n",
    "You just need a relative (to the path you are executing the file from) path where you want to store the state dictionary and the `torch.save` method:"
   ]
  },
  {
   "cell_type": "code",
   "execution_count": 19,
   "metadata": {},
   "outputs": [],
   "source": [
    "from pathlib import Path\n",
    "\n",
    "Path(\"models\").mkdir(parents=True, exist_ok=True) #*Creates parents if needed too and doesn't raise an error if the directory already exists\n",
    "\n",
    "torch.save(obj=model.state_dict(), f=\"models/model0.pt\")"
   ]
  },
  {
   "cell_type": "markdown",
   "metadata": {},
   "source": [
    "#### Loading\n",
    "\n",
    "Once the model is saved in a file, you need the relative path of the file, the an instance of the target model's class, the `model.load_state_dict` method and the `torch.save` method to load the state dictionary:"
   ]
  },
  {
   "cell_type": "code",
   "execution_count": null,
   "metadata": {},
   "outputs": [
    {
     "data": {
      "text/plain": [
       "<All keys matched successfully>"
      ]
     },
     "execution_count": 22,
     "metadata": {},
     "output_type": "execute_result"
    }
   ],
   "source": [
    "model_loaded = LinearRegressionModel()\n",
    "model_loaded.load_state_dict(torch.load(f=\"models/model0.pt\", weights_only=True))\n",
    "model_loaded.eval()"
   ]
  },
  {
   "cell_type": "markdown",
   "metadata": {},
   "source": [
    ">Note: The `weights_only` parameter of `torch.load` seems to be preferred because it has restricted functions so it is safer. However, I am not exactly sure, so if an error like `UnpicklingError` pops up, check [this](https://pytorch.org/docs/stable/notes/serialization.html#weights-only) article here.\n",
    "\n",
    ">Also, it is recommended to call `eval` if doing inference, since this will set the some of the components of the module to evaluation mode.\n",
    "\n",
    "### Saving and loading an instance of a model\n",
    "\n",
    "It is almost the same syntax as when loading a state dictionary:"
   ]
  },
  {
   "cell_type": "code",
   "execution_count": 26,
   "metadata": {},
   "outputs": [
    {
     "data": {
      "text/plain": [
       "LinearRegressionModel()"
      ]
     },
     "execution_count": 26,
     "metadata": {},
     "output_type": "execute_result"
    }
   ],
   "source": [
    "\n",
    "#*Saving\n",
    "torch.save(model, f=\"models/model0.pt\")\n",
    "\n",
    "#*Loading\n",
    "model_loaded: LinearRegressionModel = torch.load(f=\"models/model0.pt\", weights_only=False)\n",
    "model_loaded.eval()"
   ]
  },
  {
   "cell_type": "markdown",
   "metadata": {},
   "source": [
    "This approach requires the `weights_only` option set to `False` because `pickle` probably needs access to more things since it is loading an entire object.\n",
    "\n",
    "One of the disadvantages of this approach is precisely that: since `pickle` requires access to the object's class, it saves a path to the file where the object's path is stored, which may brake the code. Also, although it needs further practice to confirm, it may be less efficient both in terms of memory and time."
   ]
  },
  {
   "cell_type": "markdown",
   "metadata": {},
   "source": [
    "## All together"
   ]
  },
  {
   "cell_type": "code",
   "execution_count": 39,
   "metadata": {},
   "outputs": [
    {
     "name": "stdout",
     "output_type": "stream",
     "text": [
      "OrderedDict({'weight': tensor([1.3863], device='cuda:0'), 'bias': tensor([0.6504], device='cuda:0')})\n",
      "Epoch 0 | Train loss: 0.8058322668075562 | Test loss: 1.1798248291015625\n",
      "Parameters: OrderedDict({'weight': tensor([1.3963], device='cuda:0'), 'bias': tensor([0.6604], device='cuda:0')})\n",
      "Epoch 10 | Train loss: 0.7442304491996765 | Test loss: 1.444852352142334\n",
      "Parameters: OrderedDict({'weight': tensor([1.4488], device='cuda:0'), 'bias': tensor([0.7594], device='cuda:0')})\n",
      "Epoch 20 | Train loss: 0.6874960660934448 | Test loss: 1.3586609363555908\n",
      "Parameters: OrderedDict({'weight': tensor([1.3911], device='cuda:0'), 'bias': tensor([0.8557], device='cuda:0')})\n",
      "Epoch 30 | Train loss: 0.6292069554328918 | Test loss: 1.217538595199585\n",
      "Parameters: OrderedDict({'weight': tensor([1.3157], device='cuda:0'), 'bias': tensor([0.9531], device='cuda:0')})\n",
      "Epoch 40 | Train loss: 0.5702745914459229 | Test loss: 1.0880945920944214\n",
      "Parameters: OrderedDict({'weight': tensor([1.2436], device='cuda:0'), 'bias': tensor([1.0518], device='cuda:0')})\n",
      "Epoch 50 | Train loss: 0.5109886527061462 | Test loss: 0.9559913873672485\n",
      "Parameters: OrderedDict({'weight': tensor([1.1705], device='cuda:0'), 'bias': tensor([1.1510], device='cuda:0')})\n",
      "Epoch 60 | Train loss: 0.45146289467811584 | Test loss: 0.817346453666687\n",
      "Parameters: OrderedDict({'weight': tensor([1.0953], device='cuda:0'), 'bias': tensor([1.2504], device='cuda:0')})\n",
      "Epoch 70 | Train loss: 0.3917575180530548 | Test loss: 0.6717367172241211\n",
      "Parameters: OrderedDict({'weight': tensor([1.0178], device='cuda:0'), 'bias': tensor([1.3499], device='cuda:0')})\n",
      "Epoch 80 | Train loss: 0.33217865228652954 | Test loss: 0.5765866637229919\n",
      "Parameters: OrderedDict({'weight': tensor([0.9559], device='cuda:0'), 'bias': tensor([1.4505], device='cuda:0')})\n",
      "Epoch 90 | Train loss: 0.27253860235214233 | Test loss: 0.4659448564052582\n",
      "Parameters: OrderedDict({'weight': tensor([0.8893], device='cuda:0'), 'bias': tensor([1.5508], device='cuda:0')})\n",
      "Epoch 100 | Train loss: 0.21300992369651794 | Test loss: 0.3748894929885864\n",
      "Parameters: OrderedDict({'weight': tensor([0.8287], device='cuda:0'), 'bias': tensor([1.6515], device='cuda:0')})\n",
      "Epoch 110 | Train loss: 0.15335476398468018 | Test loss: 0.26756271719932556\n",
      "Parameters: OrderedDict({'weight': tensor([0.7630], device='cuda:0'), 'bias': tensor([1.7519], device='cuda:0')})\n",
      "Epoch 120 | Train loss: 0.09374725073575974 | Test loss: 0.1565338373184204\n",
      "Parameters: OrderedDict({'weight': tensor([0.6962], device='cuda:0'), 'bias': tensor([1.8522], device='cuda:0')})\n",
      "Epoch 130 | Train loss: 0.03415035828948021 | Test loss: 0.04451930522918701\n",
      "Parameters: OrderedDict({'weight': tensor([0.6291], device='cuda:0'), 'bias': tensor([1.9524], device='cuda:0')})\n",
      "Epoch 140 | Train loss: 0.01519310474395752 | Test loss: 0.03799435496330261\n",
      "Parameters: OrderedDict({'weight': tensor([0.5795], device='cuda:0'), 'bias': tensor([2.0267], device='cuda:0')})\n",
      "Epoch 150 | Train loss: 0.0038933604955673218 | Test loss: 0.01100081205368042\n",
      "Parameters: OrderedDict({'weight': tensor([0.5966], device='cuda:0'), 'bias': tensor([1.9999], device='cuda:0')})\n",
      "Epoch 160 | Train loss: 0.004630859941244125 | Test loss: 0.01421898603439331\n",
      "Parameters: OrderedDict({'weight': tensor([0.6046], device='cuda:0'), 'bias': tensor([1.9997], device='cuda:0')})\n",
      "Epoch 170 | Train loss: 0.001853756606578827 | Test loss: 0.0011965930461883545\n",
      "Parameters: OrderedDict({'weight': tensor([0.6003], device='cuda:0'), 'bias': tensor([2.0002], device='cuda:0')})\n",
      "Epoch 180 | Train loss: 0.0004372447729110718 | Test loss: 0.003115236759185791\n",
      "Parameters: OrderedDict({'weight': tensor([0.6006], device='cuda:0'), 'bias': tensor([2.0012], device='cuda:0')})\n",
      "Epoch 190 | Train loss: 0.0033615753054618835 | Test loss: 0.0067899227142333984\n",
      "Parameters: OrderedDict({'weight': tensor([0.6015], device='cuda:0'), 'bias': tensor([2.0020], device='cuda:0')})\n",
      "Epoch 200 | Train loss: 0.001665789633989334 | Test loss: 0.001682966947555542\n",
      "Parameters: OrderedDict({'weight': tensor([0.6008], device='cuda:0'), 'bias': tensor([1.9993], device='cuda:0')})\n",
      "Epoch 210 | Train loss: 0.0011267364025115967 | Test loss: 0.0030743777751922607\n",
      "Parameters: OrderedDict({'weight': tensor([0.6014], device='cuda:0'), 'bias': tensor([1.9987], device='cuda:0')})\n",
      "Epoch 220 | Train loss: 0.002335488796234131 | Test loss: 0.014913707971572876\n",
      "Parameters: OrderedDict({'weight': tensor([0.6052], device='cuda:0'), 'bias': tensor([1.9985], device='cuda:0')})\n",
      "Epoch 230 | Train loss: 0.0024942532181739807 | Test loss: 0.00554579496383667\n",
      "Parameters: OrderedDict({'weight': tensor([0.5982], device='cuda:0'), 'bias': tensor([2.0003], device='cuda:0')})\n"
     ]
    },
    {
     "data": {
      "image/png": "[encoded data removed]",
      "text/plain": [
       "<Figure size 600x600 with 1 Axes>"
      ]
     },
     "metadata": {},
     "output_type": "display_data"
    }
   ],
   "source": [
    "import matplotlib.pyplot as plt\n",
    "import numpy as np\n",
    "import torch\n",
    "import torch.nn as nn\n",
    "\n",
    "torch.manual_seed(27)\n",
    "device = \"cuda\" if torch.cuda.is_available() else \"cpu\"\n",
    "torch.set_default_device(device=device)\n",
    "\n",
    "\n",
    "#*1. Turning the data into tensors\n",
    "\n",
    "target_weight: float = 0.6\n",
    "target_bias: float = 2\n",
    "x_arr = [x/20 for x in range(40)]\n",
    "y_arr: list = [((target_weight * ((x)**2)) + target_bias) for x in x_arr]\n",
    "# print(y_arr, len(y_arr))\n",
    "data_split: int = int(len(y_arr) * 0.8)\n",
    "X_tensor: torch.Tensor = torch.Tensor(x_arr).cuda().unsqueeze(dim=1)\n",
    "Y_tensor: torch.Tensor = torch.Tensor(y_arr).cuda().unsqueeze(dim=1)\n",
    "X_train: torch.Tensor = X_tensor[:data_split]\n",
    "Y_train: torch.Tensor = Y_tensor[:data_split]\n",
    "X_test: torch.Tensor = X_tensor[data_split:]\n",
    "Y_test: torch.Tensor = Y_tensor[data_split:]\n",
    "\n",
    "\n",
    "#*2. Build a model\n",
    "\n",
    "class LinearRegressionModelCopy(nn.Module):\n",
    "    def __init__(self):\n",
    "        super().__init__()\n",
    "        self.weight: torch.Tensor = nn.Parameter(data=torch.randn(1), requires_grad=True)\n",
    "        self.bias: torch.Tensor = nn.Parameter(data=torch.rand(1), requires_grad=True)\n",
    "\n",
    "        #*2.1. Pick a loss function and an optimizer\n",
    "\n",
    "        self.loss_fn: nn.L1Loss = nn.L1Loss()\n",
    "        self.optimizer = torch.optim.Adam(params=self.parameters(), lr=0.01)\n",
    "\n",
    "    def forward(self, X: torch.Tensor) -> torch.Tensor:\n",
    "        return self.weight * (X**2) + self.bias #*ax^2 + c\n",
    "    \n",
    "    def train_loop(self, X_train: torch.Tensor, Y_train: torch.Tensor) -> str:\n",
    "        \"\"\"\n",
    "        Runs an epoch of the training loop of the model and returns the training loss.\n",
    "\n",
    "        Args\n",
    "        ----\n",
    "\n",
    "        X_train: torch.Tensor\n",
    "            Tensor containing the training features\n",
    "\n",
    "        Y_train: torch.Tensor\n",
    "            Tensor containing the training labels.\n",
    "        \"\"\"\n",
    "        self.train(True)\n",
    "\n",
    "        Y_predictions = self(X_train)\n",
    "\n",
    "        loss = self.loss_fn(Y_predictions, Y_train)\n",
    "\n",
    "        self.optimizer.zero_grad()\n",
    "\n",
    "        loss.backward()\n",
    "\n",
    "        self.optimizer.step()\n",
    "\n",
    "        return loss\n",
    "\n",
    "    def test_loop(self, X_test: torch.Tensor, Y_test: torch.Tensor) -> str:\n",
    "        \"\"\"\n",
    "        Runs an epoch of the testing loop of the model and returns the test loss.\n",
    "\n",
    "        Args\n",
    "        ----\n",
    "\n",
    "        X_test: torch.Tensor\n",
    "            Tensor containing the training features\n",
    "\n",
    "        Y_test: torch.Tensor\n",
    "            Tensor containing the training labels.\n",
    "        \"\"\"\n",
    "        self.eval()\n",
    "        with torch.inference_mode():\n",
    "            Y_predictions = self(X_test)\n",
    "            loss = self.loss_fn(Y_predictions, Y_test)\n",
    "        return loss\n",
    "    \n",
    "    @torch.inference_mode()\n",
    "    def plot_predictions(self, X_train: torch.Tensor, Y_train: torch.Tensor, X_test: torch.Tensor, Y_test: torch.Tensor, predictions: torch.Tensor) -> None:\n",
    "        plt.style.use(\"dark_background\")\n",
    "        plt.figure(figsize=(6, 6))\n",
    "\n",
    "        plt.scatter(x=X_train.cpu(), y=Y_train.cpu(), s=5, c=\"lime\", label=\"Training data\")\n",
    "        plt.scatter(x=X_test.cpu(), y=Y_test.cpu(), s=5, c=\"purple\", label=\"Test data\")\n",
    "\n",
    "        if predictions is not None:\n",
    "            plt.scatter(x=X_test.cpu(), y=predictions.cpu(), s=5, c=\"yellow\", label=\"Predictions\")\n",
    "\n",
    "        plt.legend()\n",
    "\n",
    "    \n",
    "model = LinearRegressionModelCopy()\n",
    "print(model.state_dict())\n",
    "\n",
    "#*2.2. Build a training (and test) loop\n",
    "\n",
    "epochs: int = 240\n",
    "\n",
    "for i in range(epochs):\n",
    "    train_loss: str = model.train_loop(X_train, Y_train)\n",
    "    test_loss: str = model.test_loop(X_test, Y_test)\n",
    "        \n",
    "\n",
    "    #*4. Evaluate the model\n",
    "    if i % 10 == 0:\n",
    "        print(f\"Epoch {i} | Train loss: {train_loss} | Test loss: {test_loss}\")\n",
    "        print(f\"Parameters: {model.state_dict()}\")\n",
    "\n",
    "\n",
    "#*3. (Fit the model to the data and) make a prediction \n",
    "\n",
    "Y_predictions: torch.Tensor = model(X_test)\n",
    "model.plot_predictions(X_train, Y_train, X_test, Y_test, Y_predictions)\n",
    "\n",
    "\n",
    "#*5. Improve through experimentation"
   ]
  },
  {
   "cell_type": "markdown",
   "metadata": {},
   "source": [
    "For step 5 (improve through experimentation), what I did was to play around with the epochs at first, because the optimizer seemed to not be working at all since it overshot the weight and bias and the predictions were nowhere close where we needed them to be. Therefore, I increased the number of epochs and after 240 the predictions fitted the test data perfectly.\n",
    "\n",
    "Also, I tried to change the optimizer to SGD, but Adam did a much better work, so I sticked with it (the predictions done with SGD didn't completely aligned with the test data after 500 epochs)."
   ]
  },
  {
   "cell_type": "code",
   "execution_count": 41,
   "metadata": {},
   "outputs": [
    {
     "name": "stdout",
     "output_type": "stream",
     "text": [
      "tensor([[True],\n",
      "        [True],\n",
      "        [True],\n",
      "        [True],\n",
      "        [True],\n",
      "        [True],\n",
      "        [True],\n",
      "        [True]], device='cuda:0')\n"
     ]
    },
    {
     "name": "stderr",
     "output_type": "stream",
     "text": [
      "/tmp/ipykernel_5502/3555359731.py:11: FutureWarning: You are using `torch.load` with `weights_only=False` (the current default value), which uses the default pickle module implicitly. It is possible to construct malicious pickle data which will execute arbitrary code during unpickling (See https://github.com/pytorch/pytorch/blob/main/SECURITY.md#untrusted-models for more details). In a future release, the default value for `weights_only` will be flipped to `True`. This limits the functions that could be executed during unpickling. Arbitrary objects will no longer be allowed to be loaded via this mode unless they are explicitly allowlisted by the user via `torch.serialization.add_safe_globals`. We recommend you start setting `weights_only=True` for any use case where you don't have full control of the loaded file. Please open an issue on GitHub for any issues related to this experimental feature.\n",
      "  loaded_model.load_state_dict(torch.load(f=MODEL_PATH))\n"
     ]
    },
    {
     "data": {
      "image/png": "[encoded data removed]",
      "text/plain": [
       "<Figure size 600x600 with 1 Axes>"
      ]
     },
     "metadata": {},
     "output_type": "display_data"
    }
   ],
   "source": [
    "import torch\n",
    "from pathlib import Path\n",
    "\n",
    "#*6. Save and load the model\n",
    "\n",
    "Path(\"models\").mkdir(parents=True, exist_ok=True)\n",
    "MODEL_PATH: str = \"models/model0_v2.pt\"\n",
    "torch.save(obj=model.state_dict(), f=MODEL_PATH)\n",
    "\n",
    "loaded_model: LinearRegressionModelCopy = LinearRegressionModelCopy()\n",
    "loaded_model.load_state_dict(torch.load(f=MODEL_PATH))\n",
    "\n",
    "loaded_model_predictions: torch.Tensor = loaded_model(X_test)\n",
    "print(Y_predictions == loaded_model_predictions)\n",
    "model.plot_predictions(X_train, Y_train, X_test, Y_test, loaded_model_predictions)"
   ]
  }
 ],
 "metadata": {
  "kernelspec": {
   "display_name": ".venv",
   "language": "python",
   "name": "python3"
  },
  "language_info": {
   "codemirror_mode": {
    "name": "ipython",
    "version": 3
   },
   "file_extension": ".py",
   "mimetype": "text/x-python",
   "name": "python",
   "nbconvert_exporter": "python",
   "pygments_lexer": "ipython3",
   "version": "3.12.3"
  }
 },
 "nbformat": 4,
 "nbformat_minor": 2
}
